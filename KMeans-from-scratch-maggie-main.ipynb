{
 "cells": [
  {
   "cell_type": "markdown",
   "metadata": {},
   "source": [
    "# KMeans from scratch"
   ]
  },
  {
   "cell_type": "markdown",
   "metadata": {},
   "source": [
    "![Creative Commons License](https://i.creativecommons.org/l/by/4.0/88x31.png)  \n",
    "This work by Jephian Lin is licensed under a [Creative Commons Attribution 4.0 International License](http://creativecommons.org/licenses/by/4.0/)."
   ]
  },
  {
   "cell_type": "code",
   "execution_count": 1,
   "metadata": {},
   "outputs": [],
   "source": [
    "import numpy as np\n",
    "import matplotlib.pyplot as plt"
   ]
  },
  {
   "cell_type": "markdown",
   "metadata": {},
   "source": [
    "## Algorithm\n",
    "**Input:**  \n",
    "- `X`: an array of shape `(N,d)` whose rows are samples and columns are features\n",
    "- `k`: number of clusters\n",
    "- `init`: \"random\" or an array of shape (k,d)  \n",
    "if \"random\", `k` points are chosen randomly from X as the initial cluster centers  \n",
    "if an array, the array is used as the initial cluster centers\n",
    "\n",
    "**Output:**  \n",
    "A tuple `(y_new, centers)`.  \n",
    "- `y_new`: an array of shape `(N,)` that records the labels in `(0, ..., k-1)` of each sample \n",
    "- `centers`: an array of shape `(k,d)` that records the cluster centers\n",
    "\n",
    "**Steps:**\n",
    "1. Initialize a collection of centers $\\mu_0,\\ldots,\\mu_{k-1}$:  \n",
    "    - if `init` is an array, the centers are the rows of `init` . \n",
    "    - if `init==\"random\"`, the centers are chosen as `k` random rows of `X` .  \n",
    "2. Label each sample ${\\bf x}_i$ by $j$ if $\\mu_j$ is the closed center to ${\\bf x}_i$.\n",
    "3. Call the points with label $j$ as group $j$.  Update $\\mu_j$ as the center of points in group $j$.  \n",
    "4. Repeat Steps 2 and 3 until `y_new` do not change anymore."
   ]
  },
  {
   "cell_type": "markdown",
   "metadata": {},
   "source": [
    "## Pseudocode\n",
    "Translate the algorithm into the pseudocode.  \n",
    "This helps you to identify the parts that you don't know how to do it.  "
   ]
  },
  {
   "cell_type": "markdown",
   "metadata": {},
   "source": [
    "    1. \n",
    "    2. \n",
    "    3. ..."
   ]
  },
  {
   "cell_type": "markdown",
   "metadata": {},
   "source": [
    "## Code"
   ]
  },
  {
   "cell_type": "markdown",
   "metadata": {},
   "source": [
    "- `X`: an array of shape `(N,d)` whose rows are samples and columns are features\n",
    "- `k`: number of clusters\n",
    "- `init`: \"random\" or an array of shape (k,d)  "
   ]
  },
  {
   "cell_type": "code",
   "execution_count": 2,
   "metadata": {},
   "outputs": [],
   "source": [
    "def distance_matrix(X, Y=None):\n",
    "    \"\"\"Return the distance matrix between rows of X and rows of Y\n",
    "    \n",
    "    Input:  \n",
    "        X: an array of shape (N,d)\n",
    "        Y: an array of shape (M,d)\n",
    "            if None, Y = X\n",
    "           \n",
    "    Output:\n",
    "        the matrix [d_ij] where d_ij is the distance between  \n",
    "        the i-th row of X and the j-th row of Y\n",
    "    \"\"\"\n",
    "    if isinstance(Y, np.ndarray):\n",
    "        pass\n",
    "    elif Y == None:\n",
    "        Y = X.copy()\n",
    "    else:\n",
    "        raise TypeError(\"Y should be a NumPy array or None\") \n",
    "    X_col = X[:, np.newaxis, :]\n",
    "    Y_row = Y[np.newaxis, :, :]\n",
    "    diff = X_col - Y_row\n",
    "    dist = np.sqrt(np.sum(diff**2, axis=-1))\n",
    "    \n",
    "    return dist"
   ]
  },
  {
   "cell_type": "code",
   "execution_count": 3,
   "metadata": {},
   "outputs": [],
   "source": [
    "# Function to implement the four Steps in the KMeans Algo\n",
    "def KMeans_from_scratch(X, k, init = \"random\"):\n",
    "    # Step 1: Choosing centers randomly\n",
    "    N = len(X) ; inds = 0\n",
    "    if init == \"random\": # the centers are chosen as k random rows of X\n",
    "        inds = np.random.choice(range(N), k, replace=False)    \n",
    "        centers = X[inds, :]\n",
    "    else: # if init is an array, the centers are the rows of init\n",
    "        centers = init\n",
    "    y_new = np.zeros(N) # label y_new with 0\n",
    "    \n",
    "    # Step 2: Finding the distance bet. centers and data points\n",
    "    dist = distance_matrix(X, centers)\n",
    "    \n",
    "    # Step 3: Center w/the min. distance\n",
    "    y_new = np.argmin(dist, axis = 1) # Returns the indices of the minimum values along an axis,\n",
    "                                      # axis 1 is the axis that runs horizontally across the columns, \n",
    "                                      # in this case col of dist\n",
    "    label = np.array([-1 for i in range(N)]) # label all the points until the label result is same as before\n",
    "     \n",
    "    # Step 4: Repeat Steps 2 and 3 until y_new do not change anymore\n",
    "    while not np.array_equal(y_new, label):\n",
    "        label = np.copy(y_new) ; centers = []\n",
    "        for inds in range(k):\n",
    "            # Updating centers by the ave. of cluster it belongs to\n",
    "            temp_cent = X[y_new==inds].mean(axis=0) \n",
    "            centers.append(temp_cent)\n",
    " \n",
    "        centers = np.vstack(centers) # updated centers\n",
    "         \n",
    "        dist = distance_matrix(X, centers)\n",
    "        y_new = np.argmin(dist, axis = 1)\n",
    "         \n",
    "    return y_new, centers"
   ]
  },
  {
   "cell_type": "markdown",
   "metadata": {},
   "source": [
    "## Test\n",
    "Take some sample data from [KMeans-with-scikit-learn](KMeans-with-scikit-learn.ipynb) and check if your code generates similar outputs with the existing packages."
   ]
  },
  {
   "cell_type": "markdown",
   "metadata": {},
   "source": [
    "##### Name of the data\n",
    "***Description of the data:***  \n",
    "X dataset is a 2D array with a shape of (200, 2).  \n",
    "Two sets of random samples were obtained from a multivariate normal distribution,  \n",
    "in which the distribution is specified by its mean and covariance matrix.  \n",
    "These two sets of random samples are vertically stacked together.  "
   ]
  },
  {
   "cell_type": "code",
   "execution_count": 4,
   "metadata": {},
   "outputs": [
    {
     "data": {
      "text/plain": [
       "<matplotlib.collections.PathCollection at 0x1f3ec673cd0>"
      ]
     },
     "execution_count": 4,
     "metadata": {},
     "output_type": "execute_result"
    },
    {
     "data": {
      "image/png": "[encoded data removed]",
      "text/plain": [
       "<Figure size 432x288 with 1 Axes>"
      ]
     },
     "metadata": {
      "needs_background": "light"
     },
     "output_type": "display_data"
    }
   ],
   "source": [
    "### Similar data from KMeans-with-scikit-learn.ipynb\n",
    "np.random.seed(0)\n",
    "mu1 = np.array([2.5,0])\n",
    "cov1 = np.array([[1.1,-1],\n",
    "                [-1,1.1]])\n",
    "mu2 = np.array([-2.5,0])\n",
    "cov2 = np.array([[1.1,1],\n",
    "                [1,1.1]])\n",
    "X = np.vstack([np.random.multivariate_normal(mu1, cov1, 100), \n",
    "               np.random.multivariate_normal(mu2, cov2, 100)])\n",
    "plt.scatter(X[:,0], X[:,1])"
   ]
  },
  {
   "cell_type": "code",
   "execution_count": 5,
   "metadata": {},
   "outputs": [
    {
     "data": {
      "text/plain": [
       "<matplotlib.collections.PathCollection at 0x1f3ec777e80>"
      ]
     },
     "execution_count": 5,
     "metadata": {},
     "output_type": "execute_result"
    },
    {
     "data": {
      "image/png": "[encoded data removed]",
      "text/plain": [
       "<Figure size 432x288 with 1 Axes>"
      ]
     },
     "metadata": {
      "needs_background": "light"
     },
     "output_type": "display_data"
    }
   ],
   "source": [
    "### results with your code\n",
    "label, center = KMeans_from_scratch(X, 2)\n",
    "plt.scatter(X[:,0], X[:,1], c=label)"
   ]
  },
  {
   "cell_type": "code",
   "execution_count": 6,
   "metadata": {},
   "outputs": [
    {
     "name": "stdout",
     "output_type": "stream",
     "text": [
      "430.155984431279\n"
     ]
    },
    {
     "data": {
      "image/png": "[encoded data removed]",
      "text/plain": [
       "<Figure size 432x288 with 1 Axes>"
      ]
     },
     "metadata": {
      "needs_background": "light"
     },
     "output_type": "display_data"
    }
   ],
   "source": [
    "### results with existing packages\n",
    "from sklearn.cluster import KMeans\n",
    "model = KMeans(n_clusters=2)\n",
    "y_new = model.fit_predict(X)\n",
    "\n",
    "%matplotlib inline\n",
    "plt.axis('equal')\n",
    "plt.scatter(*X.T, c=y_new)\n",
    "print(model.inertia_) # Sum of squared distances of samples to their closest cluster center."
   ]
  },
  {
   "cell_type": "markdown",
   "metadata": {},
   "source": [
    "## Comparison"
   ]
  },
  {
   "cell_type": "markdown",
   "metadata": {},
   "source": [
    "##### Exercise 1\n",
    "Modify your code so that it prints the inertia at each iteration.  \n",
    "Is it decreasing?"
   ]
  },
  {
   "cell_type": "code",
   "execution_count": 7,
   "metadata": {},
   "outputs": [],
   "source": [
    "# Function to implement the four Steps in the KMeans Algo\n",
    "def KMeans_with_inertia(X, k, init = \"random\", verbose = None):\n",
    "    # Step 1: Choosing centers randomly\n",
    "    N = len(X) ; inds = 0\n",
    "    if init == \"random\": # the centers are chosen as k random rows of X\n",
    "        inds = np.random.choice(range(N), k, replace=False)    \n",
    "        centers = X[inds, :]\n",
    "    else: # if init is an array, the centers are the rows of init\n",
    "        centers = init\n",
    "    y_new = np.zeros(N) # label y_new with 0\n",
    "    \n",
    "    # Step 2: Finding the distance bet. centers and data points\n",
    "    dist = distance_matrix(X, centers)\n",
    "    \n",
    "    # Step 3: Center w/the min. distance\n",
    "    y_new = np.argmin(dist, axis = 1) # Returns the indices of the minimum values along an axis,\n",
    "                                      # axis 1 is the axis that runs horizontally across the columns, \n",
    "                                      # in this case col of dist\n",
    "    label = np.array([-1 for i in range(N)]) # label all the points until the label result is same as before\n",
    "    \n",
    "    inertia_list = [] # list to store inertia\n",
    "    # Step 4: Repeat Steps 2 and 3 until y_new do not change anymore\n",
    "    while not np.array_equal(y_new, label):\n",
    "        label = np.copy(y_new) ; centers = []\n",
    "        for inds in range(k):\n",
    "            # Updating centers by the ave. of cluster it belongs to\n",
    "            temp_cent = X[y_new==inds].mean(axis=0) \n",
    "            centers.append(temp_cent)\n",
    " \n",
    "        centers = np.vstack(centers) # updated centers\n",
    "         \n",
    "        dist = distance_matrix(X, centers)\n",
    "        y_new = np.argmin(dist, axis = 1)\n",
    "\n",
    "        # Inertia iteration\n",
    "        inertia = np.sum(np.min(dist, axis=1)**2)\n",
    "        if verbose == True: # detailed iteration of inertia, kind of similar to verbose parameter in KMeans()\n",
    "            inertia_list.append(inertia)\n",
    "            \n",
    "    for idx, item in enumerate(inertia_list): # iterate and prints the index-value pair of inertia_list\n",
    "        print(\"Iteration\", idx, \"inertia\", item) # kind of similar to verbose parameter in KMeans()\n",
    "        \n",
    "    if verbose == False: # will only print the last iteration of inertia\n",
    "        print(\"inertia is\", inertia) # kind of similar to KMeans.inertia_\n",
    "\n",
    "    return y_new, centers"
   ]
  },
  {
   "cell_type": "code",
   "execution_count": 8,
   "metadata": {
    "scrolled": true
   },
   "outputs": [
    {
     "name": "stdout",
     "output_type": "stream",
     "text": [
      "Iteration 0 inertia 339.76372571682384\n",
      "Iteration 1 inertia 288.7032060527051\n",
      "Iteration 2 inertia 278.68820638114244\n",
      "Iteration 3 inertia 273.5554932563148\n",
      "Iteration 4 inertia 272.6059728645098\n",
      "Iteration 5 inertia 270.92161357231066\n",
      "Iteration 6 inertia 269.0568492231027\n",
      "Iteration 7 inertia 267.18022525383446\n",
      "Iteration 8 inertia 266.36283797870993\n",
      "Iteration 9 inertia 265.1619881162061\n",
      "Iteration 10 inertia 264.2629484459714\n",
      "Iteration 11 inertia 263.58300463526336\n",
      "Iteration 12 inertia 260.5872096236334\n",
      "Iteration 13 inertia 258.2460916958044\n",
      "Iteration 14 inertia 257.1128243855393\n",
      "Iteration 15 inertia 255.64536870598806\n",
      "Iteration 16 inertia 253.38003366437607\n",
      "Iteration 17 inertia 252.73324263692476\n",
      "Iteration 18 inertia 251.9464511805029\n",
      "Iteration 19 inertia 251.28772272353237\n",
      "Iteration 20 inertia 250.75409973769885\n",
      "Iteration 21 inertia 250.35492320273642\n",
      "Iteration 22 inertia 249.99735962044898\n",
      "\n",
      " The inertia is decreasing\n"
     ]
    },
    {
     "data": {
      "image/png": "[encoded data removed]",
      "text/plain": [
       "<Figure size 432x288 with 1 Axes>"
      ]
     },
     "metadata": {
      "needs_background": "light"
     },
     "output_type": "display_data"
    }
   ],
   "source": [
    "### results with your code\n",
    "label, center = KMeans_with_inertia(X, 3, verbose = True)\n",
    "plt.scatter(X[:,0], X[:,1], c=label )\n",
    "print(\"\\n The inertia is decreasing\")"
   ]
  },
  {
   "cell_type": "code",
   "execution_count": 9,
   "metadata": {},
   "outputs": [
    {
     "name": "stdout",
     "output_type": "stream",
     "text": [
      "verbose = False\n",
      "inertia is 249.99735962044898\n"
     ]
    },
    {
     "data": {
      "text/plain": [
       "<matplotlib.collections.PathCollection at 0x1f3eef41d60>"
      ]
     },
     "execution_count": 9,
     "metadata": {},
     "output_type": "execute_result"
    },
    {
     "data": {
      "image/png": "[encoded data removed]",
      "text/plain": [
       "<Figure size 432x288 with 1 Axes>"
      ]
     },
     "metadata": {
      "needs_background": "light"
     },
     "output_type": "display_data"
    }
   ],
   "source": [
    "### results with your code, test verbose = False\n",
    "print(\"verbose = False\")\n",
    "label, center = KMeans_with_inertia(X, 3, verbose = False)\n",
    "plt.scatter(X[:,0], X[:,1], c=label )"
   ]
  },
  {
   "cell_type": "markdown",
   "metadata": {},
   "source": [
    "##### Exercise 2\n",
    "Let  \n",
    "```python\n",
    "from sklearn.datasets import load_iris\n",
    "iris = load_iris()\n",
    "X = iris.data\n",
    "y_iris = iris.target\n",
    "```"
   ]
  },
  {
   "cell_type": "markdown",
   "metadata": {},
   "source": [
    "###### 2(a)\n",
    "Use your function to apply the $k$-means algorithm with $k=3$.  \n",
    "What is the inertia?  \n",
    "Run it several times to see if the results are always the same.  "
   ]
  },
  {
   "cell_type": "code",
   "execution_count": 10,
   "metadata": {},
   "outputs": [
    {
     "name": "stdout",
     "output_type": "stream",
     "text": [
      "Inertia by KMeans_with_inertia: \n",
      "\n",
      "Run number: 1\n",
      "inertia is 78.85144142614601\n",
      "Run number: 2\n",
      "inertia is 78.85144142614601\n",
      "Run number: 3\n",
      "inertia is 142.7540625\n",
      "Run number: 4\n",
      "inertia is 78.85144142614601\n",
      "Run number: 5\n",
      "inertia is 78.8556658259773\n",
      "Run number: 6\n",
      "inertia is 78.8556658259773\n",
      "Run number: 7\n",
      "inertia is 145.4526917648503\n",
      "Run number: 8\n",
      "inertia is 78.85144142614601\n",
      "Run number: 9\n",
      "inertia is 78.8556658259773\n",
      "Run number: 10\n",
      "inertia is 78.8556658259773\n",
      "\n",
      "Using KMeans_with_inertia, the resulting inertia is not always the same.\n",
      "This is because of the randomized initialized centers.\n"
     ]
    }
   ],
   "source": [
    "### your answer here\n",
    "from sklearn.datasets import load_iris\n",
    "iris = load_iris()\n",
    "X = iris.data\n",
    "y_iris = iris.target\n",
    "\n",
    "print(\"Inertia by KMeans_with_inertia: \\n\")\n",
    "\n",
    "for i in range(10):\n",
    "    print(\"Run number:\", i+1)\n",
    "    label, center = KMeans_with_inertia(X, 3, verbose = False)\n",
    "    \n",
    "print(\"\\nUsing KMeans_with_inertia, the resulting inertia is not always the same.\")\n",
    "print(\"This is because of the randomized initialized centers.\")"
   ]
  },
  {
   "cell_type": "markdown",
   "metadata": {},
   "source": [
    "###### 2(b)\n",
    "Use `sklearn.cluster.KMeans` to apply the $k$-means algorithm with $k=3$.  \n",
    "What is the inertia?  \n",
    "Run it several times to see if the results are always the same.  "
   ]
  },
  {
   "cell_type": "code",
   "execution_count": 11,
   "metadata": {
    "scrolled": true
   },
   "outputs": [
    {
     "name": "stdout",
     "output_type": "stream",
     "text": [
      "Inertia by model.inertia_: \n",
      "\n",
      "Run number: 1\n",
      "inertia is 78.851441426146\n",
      "Run number: 2\n",
      "inertia is 78.851441426146\n",
      "Run number: 3\n",
      "inertia is 78.851441426146\n",
      "Run number: 4\n",
      "inertia is 78.851441426146\n",
      "Run number: 5\n",
      "inertia is 78.851441426146\n",
      "Run number: 6\n",
      "inertia is 78.851441426146\n",
      "Run number: 7\n",
      "inertia is 78.851441426146\n",
      "Run number: 8\n",
      "inertia is 78.851441426146\n",
      "Run number: 9\n",
      "inertia is 78.851441426146\n",
      "Run number: 10\n",
      "inertia is 78.851441426146\n",
      "\n",
      "Using sklearn.cluster.KMeans, the obtained inertia values are always the same.\n",
      "This happens because the function will run the 𝑘-means algo n_init times to get the best performance.\n",
      "In which the final results will be the best output of n_init consecutive runs in terms of inertia.\n"
     ]
    }
   ],
   "source": [
    "### your answer here\n",
    "print(\"Inertia by model.inertia_: \\n\")\n",
    "\n",
    "for i in range(10):\n",
    "    model = KMeans(n_clusters=3)\n",
    "    model.fit(X)\n",
    "    print(\"Run number:\", i+1)\n",
    "    print(\"inertia is\", model.inertia_)\n",
    "    \n",
    "print(\"\\nUsing sklearn.cluster.KMeans, the obtained inertia values are always the same.\")\n",
    "print(\"This happens because the function will run the 𝑘-means algo n_init times to get the best performance.\")\n",
    "print(\"In which the final results will be the best output of n_init consecutive runs in terms of inertia.\")"
   ]
  },
  {
   "cell_type": "code",
   "execution_count": 12,
   "metadata": {},
   "outputs": [
    {
     "name": "stdout",
     "output_type": "stream",
     "text": [
      "Inertia by model.inertia_:\n",
      "n_init: 1 \n",
      "\n",
      "Run number: 1\n",
      "inertia is 78.851441426146\n",
      "Run number: 2\n",
      "inertia is 78.85566582597727\n",
      "Run number: 3\n",
      "inertia is 78.851441426146\n",
      "Run number: 4\n",
      "inertia is 78.851441426146\n",
      "Run number: 5\n",
      "inertia is 78.851441426146\n",
      "Run number: 6\n",
      "inertia is 78.85566582597727\n",
      "Run number: 7\n",
      "inertia is 78.85566582597727\n",
      "Run number: 8\n",
      "inertia is 142.7540625000001\n",
      "Run number: 9\n",
      "inertia is 78.85566582597727\n",
      "Run number: 10\n",
      "inertia is 78.85566582597727\n",
      "\n",
      "Varying the n_init parameter in sklearn.cluster.KMeans, such as reducing its value,\n",
      "would also reduce the probability of getting the best output.\n",
      "Therefore, the results for each iteration would somehow be slightly different.\n"
     ]
    }
   ],
   "source": [
    "### n_init test\n",
    "### your answer here\n",
    "n_init_var = 1\n",
    "print(\"Inertia by model.inertia_:\")\n",
    "print(\"n_init:\", n_init_var, \"\\n\")\n",
    "\n",
    "for i in range(10):\n",
    "    model = KMeans(n_clusters=3, n_init=n_init_var)\n",
    "    model.fit(X)\n",
    "    print(\"Run number:\", i+1)\n",
    "    print(\"inertia is\", model.inertia_)\n",
    "    \n",
    "print(\"\\nVarying the n_init parameter in sklearn.cluster.KMeans, such as reducing its value,\")\n",
    "print(\"would also reduce the probability of getting the best output.\")\n",
    "print(\"Therefore, the results for each iteration would somehow be slightly different.\")"
   ]
  },
  {
   "cell_type": "markdown",
   "metadata": {},
   "source": [
    "###### 2(c)\n",
    "Pick a label `labels` that you like.  \n",
    "Compute the cluster centers of `X` corresponding to `labels` .  \n",
    "Is this inertia bigger or smaller than the previous two answers?"
   ]
  },
  {
   "cell_type": "code",
   "execution_count": 13,
   "metadata": {},
   "outputs": [
    {
     "name": "stdout",
     "output_type": "stream",
     "text": [
      "random inertia:  674.9114772654344\n",
      "The random inertia is way bigger than the previous two answers.\n"
     ]
    }
   ],
   "source": [
    "### your answer here\n",
    "labels = np.random.randint(3, size=len(X))\n",
    "random_inertia = 0\n",
    "\n",
    "for i in range(3):\n",
    "    mask = np.where(labels == i)\n",
    "    X_labels = X[mask]\n",
    "    centers = np.mean(X_labels, axis = 0)\n",
    "    random_inertia += np.sum((X_labels-centers)**2)\n",
    "\n",
    "print(\"random inertia: \", random_inertia)\n",
    "print(\"The random inertia is way bigger than the previous two answers.\")"
   ]
  },
  {
   "cell_type": "markdown",
   "metadata": {},
   "source": [
    "###### 2(d)\n",
    "The label `y_iris` is the \"correct\" real-world answer.  \n",
    "Compute the cluster centers and the inertia.  \n",
    "Is this inertia bigger or smaller than the answers in 2(a) and 2(b)?"
   ]
  },
  {
   "cell_type": "code",
   "execution_count": 14,
   "metadata": {},
   "outputs": [
    {
     "name": "stdout",
     "output_type": "stream",
     "text": [
      "correct inertia:  89.29740000000001\n",
      "Comparing to 2(a), it is either bigger or smaller.\n",
      "Comparing to 2(b), it is slightly bigger.\n"
     ]
    }
   ],
   "source": [
    "### your answer here\n",
    "correct_inertia = 0\n",
    "\n",
    "for i in range(3):\n",
    "    mask_iris = np.where(y_iris == i)\n",
    "    X_labels = X[mask_iris]\n",
    "    centers = np.mean(X_labels, axis = 0)    \n",
    "    correct_inertia += np.sum((X_labels-centers)**2)    \n",
    "\n",
    "print(\"correct inertia: \", correct_inertia)\n",
    "print(\"Comparing to 2(a), it is either bigger or smaller.\")\n",
    "print(\"Comparing to 2(b), it is slightly bigger.\")"
   ]
  },
  {
   "cell_type": "markdown",
   "metadata": {},
   "source": [
    "##### Exercise 3\n",
    "The $k$-means algorithm is a deterministic algorithm once the initial cluster centers have been determined.  \n",
    "Therefore, your function and `sklearn.cluster.KMeans` should obtain the same result when `init` is given.  \n",
    "Check if this is true.  \n",
    "\n",
    "Note:  There are still many subtle differences, for example, `sklearn` uses the location of centers to test the convergence but our algorithm uses the label to test the convergence."
   ]
  },
  {
   "cell_type": "code",
   "execution_count": 15,
   "metadata": {},
   "outputs": [
    {
     "name": "stdout",
     "output_type": "stream",
     "text": [
      "Run number: 1\n",
      "labels by sklearn KMeans: \n",
      " [1 0 0 0 1 1 0 1 0 0 1 1 0 0 1 1 1 1 1 1 1 1 1 1 0 0 1 1 1 0 0 1 1 1 0 1 1\n",
      " 1 0 1 1 0 0 1 1 0 1 0 1 1 2 2 2 2 2 2 2 0 2 2 0 2 2 2 2 2 2 2 2 2 2 2 2 2\n",
      " 2 2 2 2 2 2 2 2 2 2 2 2 2 2 2 2 2 2 2 0 2 2 2 2 0 2 2 2 2 2 2 2 2 2 2 2 2\n",
      " 2 2 2 2 2 2 2 2 2 2 2 2 2 2 2 2 2 2 2 2 2 2 2 2 2 2 2 2 2 2 2 2 2 2 2 2 2\n",
      " 2 2]\n",
      "labels by KMeans from scratch: \n",
      " [1 0 0 0 1 1 0 1 0 0 1 1 0 0 1 1 1 1 1 1 1 1 1 1 0 0 1 1 1 0 0 1 1 1 0 1 1\n",
      " 1 0 1 1 0 0 1 1 0 1 0 1 1 2 2 2 2 2 2 2 0 2 2 0 2 2 2 2 2 2 2 2 2 2 2 2 2\n",
      " 2 2 2 2 2 2 2 2 2 2 2 2 2 2 2 2 2 2 2 0 2 2 2 2 0 2 2 2 2 2 2 2 2 2 2 2 2\n",
      " 2 2 2 2 2 2 2 2 2 2 2 2 2 2 2 2 2 2 2 2 2 2 2 2 2 2 2 2 2 2 2 2 2 2 2 2 2\n",
      " 2 2]\n",
      "sklearn KMeans vs KMeans from scratch: True\n",
      "Run number: 2\n",
      "labels by sklearn KMeans: \n",
      " [1 0 0 0 1 1 0 1 0 0 1 0 0 0 1 1 1 1 1 1 1 1 0 1 1 0 1 1 1 0 0 1 1 1 0 0 1\n",
      " 1 0 1 1 0 0 1 1 0 1 0 1 0 2 2 2 2 2 2 2 1 2 2 2 2 2 2 2 2 2 2 2 2 2 2 2 2\n",
      " 2 2 2 2 2 2 2 2 2 2 2 2 2 2 2 2 2 2 2 1 2 2 2 2 1 2 2 2 2 2 2 2 2 2 2 2 2\n",
      " 2 2 2 2 2 2 2 2 2 2 2 2 2 2 2 2 2 2 2 2 2 2 2 2 2 2 2 2 2 2 2 2 2 2 2 2 2\n",
      " 2 2]\n",
      "labels by KMeans from scratch: \n",
      " [1 0 0 0 1 1 0 1 0 0 1 0 0 0 1 1 1 1 1 1 1 1 0 1 1 0 1 1 1 0 0 1 1 1 0 0 1\n",
      " 1 0 1 1 0 0 1 1 0 1 0 1 0 2 2 2 2 2 2 2 1 2 2 2 2 2 2 2 2 2 2 2 2 2 2 2 2\n",
      " 2 2 2 2 2 2 2 2 2 2 2 2 2 2 2 2 2 2 2 1 2 2 2 2 1 2 2 2 2 2 2 2 2 2 2 2 2\n",
      " 2 2 2 2 2 2 2 2 2 2 2 2 2 2 2 2 2 2 2 2 2 2 2 2 2 2 2 2 2 2 2 2 2 2 2 2 2\n",
      " 2 2]\n",
      "sklearn KMeans vs KMeans from scratch: True\n",
      "Run number: 3\n",
      "labels by sklearn KMeans: \n",
      " [1 0 0 0 1 1 0 1 0 0 1 1 0 0 1 1 1 1 1 1 1 1 1 1 0 0 1 1 1 0 0 1 1 1 0 1 1\n",
      " 1 0 1 1 0 0 1 1 0 1 0 1 1 2 2 2 2 2 2 2 0 2 2 0 2 2 2 2 2 2 2 2 2 2 2 2 2\n",
      " 2 2 2 2 2 2 2 2 2 2 2 2 2 2 2 2 2 2 2 0 2 2 2 2 0 2 2 2 2 2 2 2 2 2 2 2 2\n",
      " 2 2 2 2 2 2 2 2 2 2 2 2 2 2 2 2 2 2 2 2 2 2 2 2 2 2 2 2 2 2 2 2 2 2 2 2 2\n",
      " 2 2]\n",
      "labels by KMeans from scratch: \n",
      " [1 0 0 0 1 1 0 1 0 0 1 1 0 0 1 1 1 1 1 1 1 1 1 1 0 0 1 1 1 0 0 1 1 1 0 1 1\n",
      " 1 0 1 1 0 0 1 1 0 1 0 1 1 2 2 2 2 2 2 2 0 2 2 0 2 2 2 2 2 2 2 2 2 2 2 2 2\n",
      " 2 2 2 2 2 2 2 2 2 2 2 2 2 2 2 2 2 2 2 0 2 2 2 2 0 2 2 2 2 2 2 2 2 2 2 2 2\n",
      " 2 2 2 2 2 2 2 2 2 2 2 2 2 2 2 2 2 2 2 2 2 2 2 2 2 2 2 2 2 2 2 2 2 2 2 2 2\n",
      " 2 2]\n",
      "sklearn KMeans vs KMeans from scratch: True\n",
      "\n",
      "As expected, when init is given, KMeans_from_scratch and sklearn.cluster.KMeans obtained the same results.\n",
      "Which is also supported by Boolean checking.\n"
     ]
    }
   ],
   "source": [
    "### your answer here\n",
    "import warnings # for Exer 3 only\n",
    "# warnings.filterwarnings(\"ignore\") # ignores all error, not advisable\n",
    "warnings.filterwarnings(\"ignore\", category=RuntimeWarning)\n",
    "warnings.filterwarnings(\"ignore\", category=FutureWarning)\n",
    "\n",
    "row = X.shape[0]\n",
    "\n",
    "for i in range(3):\n",
    "    init = np.array([X[np.random.randint(row)], X[np.random.randint(row)], X[np.random.randint(row)]])\n",
    "    print(\"Run number:\", i+1)\n",
    "    ### by sklearn KMeans\n",
    "    model = KMeans(n_clusters=3, init = init)\n",
    "    model.fit(X)\n",
    "    print(\"labels by sklearn KMeans: \\n\", model.labels_)\n",
    "    ### by KMeans from scratch\n",
    "    label, center = KMeans_from_scratch(X, 3, init = init)\n",
    "    print(\"labels by KMeans from scratch: \\n\", label)\n",
    "    ### Boolean operation to check if the same\n",
    "    print(\"sklearn KMeans vs KMeans from scratch:\", np.allclose(model.labels_, label))\n",
    "    \n",
    "print(\"\\nAs expected, when init is given, KMeans_from_scratch and sklearn.cluster.KMeans obtained the same results.\")\n",
    "print(\"Which is also supported by Boolean checking.\")"
   ]
  },
  {
   "cell_type": "code",
   "execution_count": null,
   "metadata": {},
   "outputs": [],
   "source": []
  }
 ],
 "metadata": {
  "kernelspec": {
   "display_name": "Python 3 (ipykernel)",
   "language": "python",
   "name": "python3"
  },
  "language_info": {
   "codemirror_mode": {
    "name": "ipython",
    "version": 3
   },
   "file_extension": ".py",
   "mimetype": "text/x-python",
   "name": "python",
   "nbconvert_exporter": "python",
   "pygments_lexer": "ipython3",
   "version": "3.9.7"
  }
 },
 "nbformat": 4,
 "nbformat_minor": 4
}
